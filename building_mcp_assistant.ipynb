{
  "nbformat": 4,
  "nbformat_minor": 0,
  "metadata": {
    "colab": {
      "provenance": []
    },
    "kernelspec": {
      "name": "python3",
      "display_name": "Python 3"
    },
    "language_info": {
      "name": "python"
    }
  },
  "cells": [
    {
      "cell_type": "code",
      "execution_count": null,
      "metadata": {
        "colab": {
          "base_uri": "https://localhost:8080/"
        },
        "id": "0N_bKI6DLTnT",
        "outputId": "0a324960-c51a-417b-b52d-26a5c07e7e84"
      },
      "outputs": [
        {
          "output_type": "stream",
          "name": "stdout",
          "text": [
            "Requirement already satisfied: openai in /usr/local/lib/python3.11/dist-packages (1.97.1)\n",
            "Collecting openai\n",
            "  Downloading openai-1.98.0-py3-none-any.whl.metadata (29 kB)\n",
            "Requirement already satisfied: anyio<5,>=3.5.0 in /usr/local/lib/python3.11/dist-packages (from openai) (4.9.0)\n",
            "Requirement already satisfied: distro<2,>=1.7.0 in /usr/local/lib/python3.11/dist-packages (from openai) (1.9.0)\n",
            "Requirement already satisfied: httpx<1,>=0.23.0 in /usr/local/lib/python3.11/dist-packages (from openai) (0.28.1)\n",
            "Requirement already satisfied: jiter<1,>=0.4.0 in /usr/local/lib/python3.11/dist-packages (from openai) (0.10.0)\n",
            "Requirement already satisfied: pydantic<3,>=1.9.0 in /usr/local/lib/python3.11/dist-packages (from openai) (2.11.7)\n",
            "Requirement already satisfied: sniffio in /usr/local/lib/python3.11/dist-packages (from openai) (1.3.1)\n",
            "Requirement already satisfied: tqdm>4 in /usr/local/lib/python3.11/dist-packages (from openai) (4.67.1)\n",
            "Requirement already satisfied: typing-extensions<5,>=4.11 in /usr/local/lib/python3.11/dist-packages (from openai) (4.14.1)\n",
            "Requirement already satisfied: idna>=2.8 in /usr/local/lib/python3.11/dist-packages (from anyio<5,>=3.5.0->openai) (3.10)\n",
            "Requirement already satisfied: certifi in /usr/local/lib/python3.11/dist-packages (from httpx<1,>=0.23.0->openai) (2025.7.14)\n",
            "Requirement already satisfied: httpcore==1.* in /usr/local/lib/python3.11/dist-packages (from httpx<1,>=0.23.0->openai) (1.0.9)\n",
            "Requirement already satisfied: h11>=0.16 in /usr/local/lib/python3.11/dist-packages (from httpcore==1.*->httpx<1,>=0.23.0->openai) (0.16.0)\n",
            "Requirement already satisfied: annotated-types>=0.6.0 in /usr/local/lib/python3.11/dist-packages (from pydantic<3,>=1.9.0->openai) (0.7.0)\n",
            "Requirement already satisfied: pydantic-core==2.33.2 in /usr/local/lib/python3.11/dist-packages (from pydantic<3,>=1.9.0->openai) (2.33.2)\n",
            "Requirement already satisfied: typing-inspection>=0.4.0 in /usr/local/lib/python3.11/dist-packages (from pydantic<3,>=1.9.0->openai) (0.4.1)\n",
            "Downloading openai-1.98.0-py3-none-any.whl (767 kB)\n",
            "\u001b[2K   \u001b[90m━━━━━━━━━━━━━━━━━━━━━━━━━━━━━━━━━━━━━━━━\u001b[0m \u001b[32m767.7/767.7 kB\u001b[0m \u001b[31m14.6 MB/s\u001b[0m eta \u001b[36m0:00:00\u001b[0m\n",
            "\u001b[?25hInstalling collected packages: openai\n",
            "  Attempting uninstall: openai\n",
            "    Found existing installation: openai 1.97.1\n",
            "    Uninstalling openai-1.97.1:\n",
            "      Successfully uninstalled openai-1.97.1\n",
            "Successfully installed openai-1.98.0\n"
          ]
        }
      ],
      "source": [
        "!pip install --upgrade openai\n"
      ]
    },
    {
      "cell_type": "code",
      "source": [
        "import os\n",
        "\n",
        "# Replace with your key, or paste it when prompted\n",
        "import getpass\n",
        "os.environ[\"OPENAI_API_KEY\"] = getpass.getpass(\"Enter your OpenAI API key: \")\n"
      ],
      "metadata": {
        "colab": {
          "base_uri": "https://localhost:8080/"
        },
        "id": "wDWNAIkPLiT3",
        "outputId": "1d63ca5e-b4c3-4062-d922-f3a34a8213bc"
      },
      "execution_count": null,
      "outputs": [
        {
          "name": "stdout",
          "output_type": "stream",
          "text": [
            "Enter your OpenAI API key: ··········\n"
          ]
        }
      ]
    },
    {
      "cell_type": "code",
      "source": [
        "from openai import OpenAI\n",
        "\n",
        "client = OpenAI(api_key=os.environ[\"OPENAI_API_KEY\"])\n",
        "\n",
        "# Create the assistant\n",
        "assistant = client.beta.assistants.create(\n",
        "    name=\"Shopping Helper\",\n",
        "    instructions=\"You are a helpful assistant that helps users find and compare products from Amazon.\",\n",
        "    model=\"gpt-4o\",  # You can use gpt-4 or gpt-3.5-turbo if needed\n",
        "    tools=[]  # We'll add tools later\n",
        ")\n",
        "\n",
        "print(\"Assistant ID:\", assistant.id)\n"
      ],
      "metadata": {
        "colab": {
          "base_uri": "https://localhost:8080/"
        },
        "id": "GERjfVraMo0S",
        "outputId": "dfdf201c-3021-45b8-eeba-985a840e6dc3"
      },
      "execution_count": null,
      "outputs": [
        {
          "output_type": "stream",
          "name": "stdout",
          "text": [
            "Assistant ID: asst_P6yxuGo1QfHjW7NoDcponxXv\n"
          ]
        }
      ]
    },
    {
      "cell_type": "code",
      "source": [
        "from openai import OpenAI\n",
        "import os\n",
        "\n",
        "client = OpenAI(api_key=os.getenv(\"OPENAI_API_KEY\"))\n",
        "\n",
        "tool = {\n",
        "    \"type\": \"function\",\n",
        "    \"function\": {\n",
        "        \"name\": \"search_product\",\n",
        "        \"description\": \"Search for a product by name and return a few sample results.\",\n",
        "        \"parameters\": {\n",
        "            \"type\": \"object\",\n",
        "            \"properties\": {\n",
        "                \"product_name\": {\n",
        "                    \"type\": \"string\",\n",
        "                    \"description\": \"The name of the product to search for\"\n",
        "                },\n",
        "                \"price_limit\": {\n",
        "                    \"type\": \"integer\",\n",
        "                    \"description\": \"Maximum price in INR\"\n",
        "                }\n",
        "            },\n",
        "            \"required\": [\"product_name\"]\n",
        "        }\n",
        "    }\n",
        "}\n",
        "\n",
        "assistant = client.beta.assistants.create(\n",
        "    name=\"Shopping Assistant\",\n",
        "    instructions=(\n",
        "        \"You are a helpful assistant that suggests products using the `search_product` function. \"\n",
        "        \"If the user mentions any product (like 'headphones' or 'laptop'), you should call the function \"\n",
        "        \"with that product name. You don't need to ask for more details unless the user requests something very specific. \"\n",
        "        \"Always try to be helpful by showing example products using the function.\"\n",
        "    ),\n",
        "    model=\"gpt-4o\",\n",
        "    tools=[tool]\n",
        ")\n",
        "\n",
        "print(\"✅ New Assistant ID:\", assistant.id)\n"
      ],
      "metadata": {
        "colab": {
          "base_uri": "https://localhost:8080/"
        },
        "id": "YLYHTWURcdAl",
        "outputId": "90168e41-e386-427d-a552-3115ddfc3f1e"
      },
      "execution_count": null,
      "outputs": [
        {
          "output_type": "stream",
          "name": "stdout",
          "text": [
            "✅ New Assistant ID: asst_JIHq7w6MutKtvdzuxG7aG734\n"
          ]
        }
      ]
    },
    {
      "cell_type": "code",
      "source": [
        "# Create a thread for your conversation\n",
        "thread = client.beta.threads.create()\n",
        "\n",
        "print(\"Thread ID:\", thread.id)\n"
      ],
      "metadata": {
        "colab": {
          "base_uri": "https://localhost:8080/"
        },
        "id": "lRi6BHlyMx9J",
        "outputId": "4c8442db-d826-4165-b436-5302bc5635a5"
      },
      "execution_count": null,
      "outputs": [
        {
          "output_type": "stream",
          "name": "stderr",
          "text": [
            "/tmp/ipython-input-3429237035.py:2: DeprecationWarning: The Assistants API is deprecated in favor of the Responses API\n",
            "  thread = client.beta.threads.create()\n"
          ]
        },
        {
          "output_type": "stream",
          "name": "stdout",
          "text": [
            "Thread ID: thread_y4GJ2OvjSgkY5GbxNKUSDw3W\n"
          ]
        }
      ]
    },
    {
      "cell_type": "code",
      "source": [
        "# Send a message into the thread\n",
        "message = client.beta.threads.messages.create(\n",
        "    thread_id=thread.id,\n",
        "    role=\"user\",\n",
        "    content=\"I want to buy headphones\"\n",
        ")\n"
      ],
      "metadata": {
        "colab": {
          "base_uri": "https://localhost:8080/"
        },
        "id": "nMJzzy4nNAm8",
        "outputId": "9d5130d6-efb3-49ce-8e66-690a9fb57f15"
      },
      "execution_count": null,
      "outputs": [
        {
          "output_type": "stream",
          "name": "stderr",
          "text": [
            "/tmp/ipython-input-665423628.py:2: DeprecationWarning: The Assistants API is deprecated in favor of the Responses API\n",
            "  message = client.beta.threads.messages.create(\n"
          ]
        }
      ]
    },
    {
      "cell_type": "code",
      "source": [
        "# Run the assistant to get a reply\n",
        "run = client.beta.threads.runs.create(\n",
        "    thread_id=thread.id,\n",
        "    assistant_id=assistant.id\n",
        ")\n"
      ],
      "metadata": {
        "colab": {
          "base_uri": "https://localhost:8080/"
        },
        "id": "YBtYcQ2qNFC3",
        "outputId": "114f6b4a-5b41-41b1-e27a-dac0af1f57c5"
      },
      "execution_count": null,
      "outputs": [
        {
          "output_type": "stream",
          "name": "stderr",
          "text": [
            "/tmp/ipython-input-3816444631.py:2: DeprecationWarning: The Assistants API is deprecated in favor of the Responses API\n",
            "  run = client.beta.threads.runs.create(\n"
          ]
        }
      ]
    },
    {
      "cell_type": "code",
      "source": [
        "import time\n",
        "\n",
        "# Wait for the assistant to finish responding\n",
        "while True:\n",
        "    run_status = client.beta.threads.runs.retrieve(\n",
        "        thread_id=thread.id,\n",
        "        run_id=run.id\n",
        "    )\n",
        "    if run_status.status == \"completed\":\n",
        "        break\n",
        "    elif run_status.status == \"failed\":\n",
        "        raise Exception(\"Run failed.\")\n",
        "    time.sleep(1)\n"
      ],
      "metadata": {
        "colab": {
          "base_uri": "https://localhost:8080/"
        },
        "id": "dtD_aisSNOQW",
        "outputId": "f3ecbcb7-7d28-464c-95a7-e5098a7ff692"
      },
      "execution_count": null,
      "outputs": [
        {
          "output_type": "stream",
          "name": "stderr",
          "text": [
            "/tmp/ipython-input-3258148579.py:5: DeprecationWarning: The Assistants API is deprecated in favor of the Responses API\n",
            "  run_status = client.beta.threads.runs.retrieve(\n"
          ]
        }
      ]
    },
    {
      "cell_type": "code",
      "source": [
        "# Get all messages in the thread (including the assistant's reply)\n",
        "messages = client.beta.threads.messages.list(thread_id=thread.id)\n",
        "\n",
        "# Print the assistant's latest message\n",
        "for msg in reversed(messages.data):\n",
        "    if msg.role == \"assistant\":\n",
        "        print(\"Assistant says:\", msg.content[0].text.value)\n",
        "        break\n"
      ],
      "metadata": {
        "colab": {
          "base_uri": "https://localhost:8080/"
        },
        "id": "PGB_wv7YNRCS",
        "outputId": "41b77b6b-8ce4-48ea-81fb-015d3968a7f6"
      },
      "execution_count": null,
      "outputs": [
        {
          "output_type": "stream",
          "name": "stderr",
          "text": [
            "/tmp/ipython-input-3343710799.py:2: DeprecationWarning: The Assistants API is deprecated in favor of the Responses API\n",
            "  messages = client.beta.threads.messages.list(thread_id=thread.id)\n"
          ]
        },
        {
          "output_type": "stream",
          "name": "stdout",
          "text": [
            "Assistant says: Great! There are many types of headphones available depending on your needs and preferences. Here are a few things to consider when choosing headphones:\n",
            "\n",
            "1. **Type**:\n",
            "   - **Over-Ear**: These headphones cover your entire ear and usually offer good sound quality and comfort.\n",
            "   - **On-Ear**: These sit on top of your ears and are typically more compact than over-ear models.\n",
            "   - **In-Ear**: Also known as earbuds, they fit inside your ear canal and are very portable.\n",
            "   - **True Wireless**: These are in-ear headphones without any connecting wires, like Apple AirPods.\n",
            "\n",
            "2. **Features**:\n",
            "   - **Noise Cancellation**: Reduces ambient noise, great for travel or noisy environments.\n",
            "   - **Wireless/Bluetooth**: Offers freedom from wires, but ensure battery life meets your needs.\n",
            "   - **Sound Quality**: Look for headphones with good bass and treble for a balanced sound.\n",
            "   - **Microphone**: Useful for calls and voice commands.\n",
            "\n",
            "3. **Budget**: Knowing your budget can help narrow down your choices.\n",
            "\n",
            "4. **Brand Preference**: Some popular brands include Bose, Sony, Sennheiser, Beats, and JBL.\n",
            "\n",
            "Can you provide more details about what you're looking for, such as your preferred type and any specific features you're interested in? This will help me narrow down some recommendations for you!\n"
          ]
        }
      ]
    },
    {
      "cell_type": "code",
      "source": [
        "tool = {\n",
        "    \"type\": \"function\",\n",
        "    \"function\": {\n",
        "        \"name\": \"search_product\",\n",
        "        \"description\": \"Search for a product by name and return a few sample results.\",\n",
        "        \"parameters\": {\n",
        "            \"type\": \"object\",\n",
        "            \"properties\": {\n",
        "                \"product_name\": {\n",
        "                    \"type\": \"string\",\n",
        "                    \"description\": \"The name of the product to search for\"\n",
        "                }\n",
        "            },\n",
        "            \"required\": [\"product_name\"]\n",
        "        }\n",
        "    }\n",
        "}\n"
      ],
      "metadata": {
        "id": "fZRUlJGrPLUn"
      },
      "execution_count": null,
      "outputs": []
    },
    {
      "cell_type": "code",
      "source": [
        "assistant = client.beta.assistants.create(\n",
        "    name=\"Shopping Helper\",\n",
        "    instructions=\"You are a helpful assistant that helps users find and compare products from Amazon. Use the search_product function when someone wants to find something.\",\n",
        "    model=\"gpt-4o\",\n",
        "    tools=[tool]\n",
        ")\n",
        "\n",
        "print(\"Assistant ID with tool:\", assistant.id)\n"
      ],
      "metadata": {
        "colab": {
          "base_uri": "https://localhost:8080/"
        },
        "id": "YG588yCrPRQX",
        "outputId": "fc31f129-bbfd-435b-b96f-a660c68ed8de"
      },
      "execution_count": null,
      "outputs": [
        {
          "output_type": "stream",
          "name": "stdout",
          "text": [
            "Assistant ID with tool: asst_iLErBkQ62qK4lbecK1neOyeI\n"
          ]
        }
      ]
    },
    {
      "cell_type": "code",
      "source": [
        "def run_tool_function(tool_call):\n",
        "    function_name = tool_call.function.name\n",
        "    arguments = tool_call.function.arguments  # a JSON string\n",
        "\n",
        "    import json\n",
        "    args = json.loads(arguments)\n",
        "    product = args.get(\"product_name\", \"\").lower()\n",
        "\n",
        "    # Simulated product search\n",
        "    fake_results = {\n",
        "        \"headphones\": [\n",
        "            {\"name\": \"Sony WH-1000XM5\", \"price\": \"₹29,990\"},\n",
        "            {\"name\": \"JBL Tune 760NC\", \"price\": \"₹5,999\"},\n",
        "            {\"name\": \"boAt Rockerz 450\", \"price\": \"₹1,499\"}\n",
        "        ],\n",
        "        \"laptop\": [\n",
        "            {\"name\": \"HP Pavilion 15\", \"price\": \"₹58,000\"},\n",
        "            {\"name\": \"MacBook Air M2\", \"price\": \"₹99,900\"}\n",
        "        ]\n",
        "    }\n",
        "\n",
        "    results = fake_results.get(product, [{\"name\": \"No results\", \"price\": \"N/A\"}])\n",
        "\n",
        "    return json.dumps({\"results\": results}, indent=2)\n"
      ],
      "metadata": {
        "id": "XdMeCvpNPW3r"
      },
      "execution_count": null,
      "outputs": []
    },
    {
      "cell_type": "code",
      "source": [
        "# Create a new thread for tool-calling\n",
        "thread = client.beta.threads.create()\n",
        "\n",
        "# Send user message\n",
        "message = client.beta.threads.messages.create(\n",
        "    thread_id=thread.id,\n",
        "    role=\"user\",\n",
        "    content=\"Can you find me some good headphones?\"\n",
        ")\n",
        "\n",
        "# Run the assistant\n",
        "run = client.beta.threads.runs.create(\n",
        "    thread_id=thread.id,\n",
        "    assistant_id=assistant.id\n",
        ")\n",
        "\n",
        "# Wait for the run to complete\n",
        "import time\n",
        "\n",
        "while True:\n",
        "    run_status = client.beta.threads.runs.retrieve(\n",
        "        thread_id=thread.id,\n",
        "        run_id=run.id\n",
        "    )\n",
        "    if run_status.status == \"requires_action\":\n",
        "        break\n",
        "    elif run_status.status == \"completed\":\n",
        "        print(\"No tool needed — assistant just replied normally.\")\n",
        "        break\n",
        "    elif run_status.status == \"failed\":\n",
        "        raise Exception(\"Run failed.\")\n",
        "    time.sleep(1)\n"
      ],
      "metadata": {
        "colab": {
          "base_uri": "https://localhost:8080/"
        },
        "id": "bTLp_OBNPgsB",
        "outputId": "a9dbb3a7-837d-4f8e-edb3-1493d510ee5f"
      },
      "execution_count": null,
      "outputs": [
        {
          "output_type": "stream",
          "name": "stderr",
          "text": [
            "/tmp/ipython-input-3989030875.py:2: DeprecationWarning: The Assistants API is deprecated in favor of the Responses API\n",
            "  thread = client.beta.threads.create()\n",
            "/tmp/ipython-input-3989030875.py:5: DeprecationWarning: The Assistants API is deprecated in favor of the Responses API\n",
            "  message = client.beta.threads.messages.create(\n",
            "/tmp/ipython-input-3989030875.py:12: DeprecationWarning: The Assistants API is deprecated in favor of the Responses API\n",
            "  run = client.beta.threads.runs.create(\n",
            "/tmp/ipython-input-3989030875.py:21: DeprecationWarning: The Assistants API is deprecated in favor of the Responses API\n",
            "  run_status = client.beta.threads.runs.retrieve(\n"
          ]
        }
      ]
    },
    {
      "cell_type": "code",
      "source": [
        "# Get tool calls the assistant wants to make\n",
        "tool_calls = run_status.required_action.submit_tool_outputs.tool_calls\n",
        "\n",
        "# Show the first tool call details\n",
        "tool_call = tool_calls[0]\n",
        "print(\"Tool function:\", tool_call.function.name)\n",
        "print(\"Arguments:\", tool_call.function.arguments)\n"
      ],
      "metadata": {
        "colab": {
          "base_uri": "https://localhost:8080/"
        },
        "id": "WnPPVLNNPwlT",
        "outputId": "2529f9cd-212c-46b4-896a-662b21b6d155"
      },
      "execution_count": null,
      "outputs": [
        {
          "output_type": "stream",
          "name": "stdout",
          "text": [
            "Tool function: search_product\n",
            "Arguments: {\"product_name\":\"headphones\"}\n"
          ]
        }
      ]
    },
    {
      "cell_type": "code",
      "source": [
        "# Run the tool simulation\n",
        "tool_output_value = run_tool_function(tool_call)\n",
        "\n",
        "print(tool_output_value)  # So you can see what it's sending\n"
      ],
      "metadata": {
        "colab": {
          "base_uri": "https://localhost:8080/"
        },
        "id": "eKljiNJGP26G",
        "outputId": "99e509e7-a2bd-43dc-bea6-3c8b24340bd3"
      },
      "execution_count": null,
      "outputs": [
        {
          "output_type": "stream",
          "name": "stdout",
          "text": [
            "{\n",
            "  \"results\": [\n",
            "    {\n",
            "      \"name\": \"Sony WH-1000XM5\",\n",
            "      \"price\": \"\\u20b929,990\"\n",
            "    },\n",
            "    {\n",
            "      \"name\": \"JBL Tune 760NC\",\n",
            "      \"price\": \"\\u20b95,999\"\n",
            "    },\n",
            "    {\n",
            "      \"name\": \"boAt Rockerz 450\",\n",
            "      \"price\": \"\\u20b91,499\"\n",
            "    }\n",
            "  ]\n",
            "}\n"
          ]
        }
      ]
    },
    {
      "cell_type": "code",
      "source": [
        "# Submit the tool output to the assistant\n",
        "run_with_tool_output = client.beta.threads.runs.submit_tool_outputs(\n",
        "    thread_id=thread.id,\n",
        "    run_id=run.id,\n",
        "    tool_outputs=[\n",
        "        {\n",
        "            \"tool_call_id\": tool_call.id,\n",
        "            \"output\": tool_output_value\n",
        "        }\n",
        "    ]\n",
        ")\n",
        "\n",
        "# Wait for the assistant to complete the final reply\n",
        "while True:\n",
        "    run_status = client.beta.threads.runs.retrieve(\n",
        "        thread_id=thread.id,\n",
        "        run_id=run.id\n",
        "    )\n",
        "    if run_status.status == \"completed\":\n",
        "        break\n",
        "    elif run_status.status == \"failed\":\n",
        "        raise Exception(\"Final run failed.\")\n",
        "    time.sleep(1)\n"
      ],
      "metadata": {
        "colab": {
          "base_uri": "https://localhost:8080/"
        },
        "id": "9FLX3m4PP86p",
        "outputId": "134470c4-efc4-4c3a-8f15-10afba7b6942"
      },
      "execution_count": null,
      "outputs": [
        {
          "output_type": "stream",
          "name": "stderr",
          "text": [
            "/tmp/ipython-input-3085812986.py:2: DeprecationWarning: The Assistants API is deprecated in favor of the Responses API\n",
            "  run_with_tool_output = client.beta.threads.runs.submit_tool_outputs(\n",
            "/tmp/ipython-input-3085812986.py:15: DeprecationWarning: The Assistants API is deprecated in favor of the Responses API\n",
            "  run_status = client.beta.threads.runs.retrieve(\n"
          ]
        }
      ]
    },
    {
      "cell_type": "code",
      "source": [
        "# Get the assistant's final reply\n",
        "messages = client.beta.threads.messages.list(thread_id=thread.id)\n",
        "\n",
        "for msg in reversed(messages.data):\n",
        "    if msg.role == \"assistant\":\n",
        "        print(\"💬 Assistant says:\\n\", msg.content[0].text.value)\n",
        "        break\n"
      ],
      "metadata": {
        "colab": {
          "base_uri": "https://localhost:8080/"
        },
        "id": "KXn3kePKP_oZ",
        "outputId": "38ce3cf9-37d7-4943-d485-d790bdce7f29"
      },
      "execution_count": null,
      "outputs": [
        {
          "output_type": "stream",
          "name": "stderr",
          "text": [
            "/tmp/ipython-input-1552270317.py:2: DeprecationWarning: The Assistants API is deprecated in favor of the Responses API\n",
            "  messages = client.beta.threads.messages.list(thread_id=thread.id)\n"
          ]
        },
        {
          "output_type": "stream",
          "name": "stdout",
          "text": [
            "💬 Assistant says:\n",
            " Here are some headphone options for you:\n",
            "\n",
            "1. **Sony WH-1000XM5** - ₹29,990\n",
            "2. **JBL Tune 760NC** - ₹5,999\n",
            "3. **boAt Rockerz 450** - ₹1,499\n",
            "\n",
            "If you have any other preferences or need more information about any of these, feel free to ask!\n"
          ]
        }
      ]
    }
  ]
}